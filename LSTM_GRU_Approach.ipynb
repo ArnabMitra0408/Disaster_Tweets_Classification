{
  "nbformat": 4,
  "nbformat_minor": 0,
  "metadata": {
    "colab": {
      "name": "LSTM_GRU_Approachipynb",
      "provenance": [],
      "collapsed_sections": []
    },
    "kernelspec": {
      "name": "python3",
      "display_name": "Python 3"
    },
    "language_info": {
      "name": "python"
    },
    "accelerator": "GPU"
  },
  "cells": [
    {
      "cell_type": "code",
      "metadata": {
        "id": "eKftLprD5UBi"
      },
      "source": [
        "import numpy as np\n",
        "import pandas as pd\n",
        "import seaborn as sns\n",
        "import matplotlib.pyplot as plt\n",
        "import keras\n",
        "from keras.layers import *\n",
        "from keras.models import *\n",
        "from keras.optimizers import *\n",
        "from keras.utils import np_utils\n",
        "from tensorflow.keras.preprocessing.text import Tokenizer\n",
        "from sklearn.model_selection import train_test_split\n",
        "from sklearn.feature_extraction.text import CountVectorizer,TfidfVectorizer"
      ],
      "execution_count": 1,
      "outputs": []
    },
    {
      "cell_type": "code",
      "metadata": {
        "id": "e9zXi7WE5d9o"
      },
      "source": [
        "df=pd.read_csv('Cleaned_Data.csv')"
      ],
      "execution_count": 2,
      "outputs": []
    },
    {
      "cell_type": "code",
      "metadata": {
        "id": "LI7cXVPV5eAw",
        "colab": {
          "base_uri": "https://localhost:8080/",
          "height": 204
        },
        "outputId": "6efdbbe0-a319-4c75-cf70-6d72609b998d"
      },
      "source": [
        "df.head()"
      ],
      "execution_count": 3,
      "outputs": [
        {
          "output_type": "execute_result",
          "data": {
            "text/html": [
              "<div>\n",
              "<style scoped>\n",
              "    .dataframe tbody tr th:only-of-type {\n",
              "        vertical-align: middle;\n",
              "    }\n",
              "\n",
              "    .dataframe tbody tr th {\n",
              "        vertical-align: top;\n",
              "    }\n",
              "\n",
              "    .dataframe thead th {\n",
              "        text-align: right;\n",
              "    }\n",
              "</style>\n",
              "<table border=\"1\" class=\"dataframe\">\n",
              "  <thead>\n",
              "    <tr style=\"text-align: right;\">\n",
              "      <th></th>\n",
              "      <th>id</th>\n",
              "      <th>keyword</th>\n",
              "      <th>location</th>\n",
              "      <th>text</th>\n",
              "      <th>target</th>\n",
              "    </tr>\n",
              "  </thead>\n",
              "  <tbody>\n",
              "    <tr>\n",
              "      <th>0</th>\n",
              "      <td>0</td>\n",
              "      <td>ablaze</td>\n",
              "      <td>NaN</td>\n",
              "      <td>communal violence bhainsa telangana stone pelt...</td>\n",
              "      <td>1</td>\n",
              "    </tr>\n",
              "    <tr>\n",
              "      <th>1</th>\n",
              "      <td>1</td>\n",
              "      <td>ablaze</td>\n",
              "      <td>NaN</td>\n",
              "      <td>telangana section imposed bhainsa january clas...</td>\n",
              "      <td>1</td>\n",
              "    </tr>\n",
              "    <tr>\n",
              "      <th>2</th>\n",
              "      <td>2</td>\n",
              "      <td>ablaze</td>\n",
              "      <td>USA</td>\n",
              "      <td>arsonist set car ablaze dealership</td>\n",
              "      <td>1</td>\n",
              "    </tr>\n",
              "    <tr>\n",
              "      <th>3</th>\n",
              "      <td>3</td>\n",
              "      <td>ablaze</td>\n",
              "      <td>Morgantown, WV</td>\n",
              "      <td>arsonist set car ablaze dealership</td>\n",
              "      <td>1</td>\n",
              "    </tr>\n",
              "    <tr>\n",
              "      <th>4</th>\n",
              "      <td>4</td>\n",
              "      <td>ablaze</td>\n",
              "      <td>NaN</td>\n",
              "      <td>lord jesus love brings freedom pardon fill hol...</td>\n",
              "      <td>0</td>\n",
              "    </tr>\n",
              "  </tbody>\n",
              "</table>\n",
              "</div>"
            ],
            "text/plain": [
              "   id keyword  ...                                               text target\n",
              "0   0  ablaze  ...  communal violence bhainsa telangana stone pelt...      1\n",
              "1   1  ablaze  ...  telangana section imposed bhainsa january clas...      1\n",
              "2   2  ablaze  ...                 arsonist set car ablaze dealership      1\n",
              "3   3  ablaze  ...                 arsonist set car ablaze dealership      1\n",
              "4   4  ablaze  ...  lord jesus love brings freedom pardon fill hol...      0\n",
              "\n",
              "[5 rows x 5 columns]"
            ]
          },
          "metadata": {
            "tags": []
          },
          "execution_count": 3
        }
      ]
    },
    {
      "cell_type": "code",
      "metadata": {
        "id": "kn3sd8uU5eDf",
        "colab": {
          "base_uri": "https://localhost:8080/"
        },
        "outputId": "ef25ad8b-46d3-4522-926d-b90c38a77c22"
      },
      "source": [
        "df.isna().sum()"
      ],
      "execution_count": 4,
      "outputs": [
        {
          "output_type": "execute_result",
          "data": {
            "text/plain": [
              "id             0\n",
              "keyword        0\n",
              "location    3418\n",
              "text           3\n",
              "target         0\n",
              "dtype: int64"
            ]
          },
          "metadata": {
            "tags": []
          },
          "execution_count": 4
        }
      ]
    },
    {
      "cell_type": "code",
      "metadata": {
        "id": "NhkteSwg5eF0"
      },
      "source": [
        "df.dropna(subset = ['text'],inplace=True)"
      ],
      "execution_count": 5,
      "outputs": []
    },
    {
      "cell_type": "code",
      "metadata": {
        "id": "y4ZeIMxk5eI0",
        "colab": {
          "base_uri": "https://localhost:8080/"
        },
        "outputId": "6d0faad2-0e38-48fa-88c8-e0c46c2f6a6a"
      },
      "source": [
        "df.isna().sum()"
      ],
      "execution_count": 6,
      "outputs": [
        {
          "output_type": "execute_result",
          "data": {
            "text/plain": [
              "id             0\n",
              "keyword        0\n",
              "location    3417\n",
              "text           0\n",
              "target         0\n",
              "dtype: int64"
            ]
          },
          "metadata": {
            "tags": []
          },
          "execution_count": 6
        }
      ]
    },
    {
      "cell_type": "code",
      "metadata": {
        "id": "9BCjdX_F6Qht"
      },
      "source": [
        "y = df['target']\n",
        "y = np.array(y)\n"
      ],
      "execution_count": 9,
      "outputs": []
    },
    {
      "cell_type": "code",
      "metadata": {
        "id": "IjsguQhThvAU"
      },
      "source": [
        "x = df.text.values"
      ],
      "execution_count": 11,
      "outputs": []
    },
    {
      "cell_type": "code",
      "metadata": {
        "colab": {
          "base_uri": "https://localhost:8080/"
        },
        "id": "UvCfhjF9hw0W",
        "outputId": "1102b902-aaa3-4dd7-ba81-2bd5b94d9458"
      },
      "source": [
        "x"
      ],
      "execution_count": 12,
      "outputs": [
        {
          "output_type": "execute_result",
          "data": {
            "text/plain": [
              "array(['communal violence bhainsa telangana stone pelted muslim house house vehicle set ablaze…',\n",
              "       'telangana section imposed bhainsa january clash erupted two group january po…',\n",
              "       'arsonist set car ablaze dealership', ...,\n",
              "       'feel directly attacked :skull: consider moonbin amp jinjin bias im currently wrecked rocky hate',\n",
              "       'ok remember outcast nd dora au au wrecked nerve nd braincells jdkshssjhs legend',\n",
              "       'jake corway wrecked running irp'], dtype=object)"
            ]
          },
          "metadata": {
            "tags": []
          },
          "execution_count": 12
        }
      ]
    },
    {
      "cell_type": "code",
      "metadata": {
        "id": "wVfE9oFW6gtV"
      },
      "source": [
        "tokenizer = Tokenizer(num_words=5000)\n",
        "tokenizer.fit_on_texts(x)\n"
      ],
      "execution_count": 14,
      "outputs": []
    },
    {
      "cell_type": "code",
      "metadata": {
        "colab": {
          "base_uri": "https://localhost:8080/"
        },
        "id": "yuPk4zY9h9_r",
        "outputId": "7a164751-d996-40c2-b72a-61c4d960f40f"
      },
      "source": [
        "len(tokenizer.word_index)"
      ],
      "execution_count": 15,
      "outputs": [
        {
          "output_type": "execute_result",
          "data": {
            "text/plain": [
              "22241"
            ]
          },
          "metadata": {
            "tags": []
          },
          "execution_count": 15
        }
      ]
    },
    {
      "cell_type": "code",
      "metadata": {
        "id": "J0-xZEFCh98L"
      },
      "source": [
        "from tensorflow.keras.preprocessing.sequence import pad_sequences\n",
        "vocab_size = len(tokenizer.word_index) + 1\n",
        "encoded_docs = tokenizer.texts_to_sequences(x)\n",
        "padded_sequence = pad_sequences(encoded_docs, maxlen=200)"
      ],
      "execution_count": 16,
      "outputs": []
    },
    {
      "cell_type": "code",
      "metadata": {
        "colab": {
          "base_uri": "https://localhost:8080/"
        },
        "id": "_rVjy_qFh953",
        "outputId": "64dc9108-68fb-4b6b-cb23-b7cb5a574bee"
      },
      "source": [
        "encoded_docs[0]"
      ],
      "execution_count": 17,
      "outputs": [
        {
          "output_type": "execute_result",
          "data": {
            "text/plain": [
              "[3873, 755, 1549, 1633, 1114, 3874, 387, 80, 80, 503, 178]"
            ]
          },
          "metadata": {
            "tags": []
          },
          "execution_count": 17
        }
      ]
    },
    {
      "cell_type": "code",
      "metadata": {
        "colab": {
          "base_uri": "https://localhost:8080/"
        },
        "id": "TlkuuZYYh93L",
        "outputId": "7bd73532-7962-4194-b24a-e6fb59bbfce6"
      },
      "source": [
        "padded_sequence[0]"
      ],
      "execution_count": 18,
      "outputs": [
        {
          "output_type": "execute_result",
          "data": {
            "text/plain": [
              "array([   0,    0,    0,    0,    0,    0,    0,    0,    0,    0,    0,\n",
              "          0,    0,    0,    0,    0,    0,    0,    0,    0,    0,    0,\n",
              "          0,    0,    0,    0,    0,    0,    0,    0,    0,    0,    0,\n",
              "          0,    0,    0,    0,    0,    0,    0,    0,    0,    0,    0,\n",
              "          0,    0,    0,    0,    0,    0,    0,    0,    0,    0,    0,\n",
              "          0,    0,    0,    0,    0,    0,    0,    0,    0,    0,    0,\n",
              "          0,    0,    0,    0,    0,    0,    0,    0,    0,    0,    0,\n",
              "          0,    0,    0,    0,    0,    0,    0,    0,    0,    0,    0,\n",
              "          0,    0,    0,    0,    0,    0,    0,    0,    0,    0,    0,\n",
              "          0,    0,    0,    0,    0,    0,    0,    0,    0,    0,    0,\n",
              "          0,    0,    0,    0,    0,    0,    0,    0,    0,    0,    0,\n",
              "          0,    0,    0,    0,    0,    0,    0,    0,    0,    0,    0,\n",
              "          0,    0,    0,    0,    0,    0,    0,    0,    0,    0,    0,\n",
              "          0,    0,    0,    0,    0,    0,    0,    0,    0,    0,    0,\n",
              "          0,    0,    0,    0,    0,    0,    0,    0,    0,    0,    0,\n",
              "          0,    0,    0,    0,    0,    0,    0,    0,    0,    0,    0,\n",
              "          0,    0,    0,    0,    0,    0,    0,    0,    0,    0,    0,\n",
              "          0,    0, 3873,  755, 1549, 1633, 1114, 3874,  387,   80,   80,\n",
              "        503,  178], dtype=int32)"
            ]
          },
          "metadata": {
            "tags": []
          },
          "execution_count": 18
        }
      ]
    },
    {
      "cell_type": "code",
      "metadata": {
        "colab": {
          "base_uri": "https://localhost:8080/"
        },
        "id": "0Tty1QQQh90n",
        "outputId": "a4ad8afc-ba32-4c89-c9a8-5335b09a4015"
      },
      "source": [
        "padded_sequence.shape"
      ],
      "execution_count": 19,
      "outputs": [
        {
          "output_type": "execute_result",
          "data": {
            "text/plain": [
              "(11367, 200)"
            ]
          },
          "metadata": {
            "tags": []
          },
          "execution_count": 19
        }
      ]
    },
    {
      "cell_type": "code",
      "metadata": {
        "id": "ZLWSaojsh9xx"
      },
      "source": [
        "#Building LSTM MODEL\n",
        "embedding_vector_length = 32\n",
        "lstm = Sequential()\n",
        "lstm.add(Embedding(vocab_size, embedding_vector_length,     \n",
        "                                     input_length=200) )\n",
        "lstm.add(SpatialDropout1D(0.25))\n",
        "lstm.add(LSTM(50,return_sequences=True))\n",
        "lstm.add(Dropout(0.2))\n",
        "lstm.add(LSTM(120,return_sequences=True))\n",
        "lstm.add(Dropout(0.3))\n",
        "lstm.add(LSTM(40))\n",
        "lstm.add(Dense(1, activation='sigmoid'))\n",
        "lstm.compile(loss='binary_crossentropy',optimizer='adam', \n",
        "                           metrics=['accuracy'])"
      ],
      "execution_count": 37,
      "outputs": []
    },
    {
      "cell_type": "code",
      "metadata": {
        "colab": {
          "base_uri": "https://localhost:8080/"
        },
        "id": "MCWpWvJKiTKn",
        "outputId": "9bc5e311-30df-4af3-eefe-6367ef6354e9"
      },
      "source": [
        "lstm.summary()"
      ],
      "execution_count": 38,
      "outputs": [
        {
          "output_type": "stream",
          "text": [
            "Model: \"sequential_4\"\n",
            "_________________________________________________________________\n",
            "Layer (type)                 Output Shape              Param #   \n",
            "=================================================================\n",
            "embedding_4 (Embedding)      (None, 200, 32)           711744    \n",
            "_________________________________________________________________\n",
            "spatial_dropout1d_4 (Spatial (None, 200, 32)           0         \n",
            "_________________________________________________________________\n",
            "lstm_6 (LSTM)                (None, 200, 50)           16600     \n",
            "_________________________________________________________________\n",
            "dropout_8 (Dropout)          (None, 200, 50)           0         \n",
            "_________________________________________________________________\n",
            "lstm_7 (LSTM)                (None, 200, 120)          82080     \n",
            "_________________________________________________________________\n",
            "dropout_9 (Dropout)          (None, 200, 120)          0         \n",
            "_________________________________________________________________\n",
            "lstm_8 (LSTM)                (None, 40)                25760     \n",
            "_________________________________________________________________\n",
            "dense_4 (Dense)              (None, 1)                 41        \n",
            "=================================================================\n",
            "Total params: 836,225\n",
            "Trainable params: 836,225\n",
            "Non-trainable params: 0\n",
            "_________________________________________________________________\n"
          ],
          "name": "stdout"
        }
      ]
    },
    {
      "cell_type": "code",
      "metadata": {
        "colab": {
          "base_uri": "https://localhost:8080/"
        },
        "id": "Sp2xHgfrh9vD",
        "outputId": "a3ef636d-dff6-4e8b-ea88-3df3832cc201"
      },
      "source": [
        "history_lstm = lstm.fit(padded_sequence,y,\n",
        "                  validation_split=0.2, epochs=10, batch_size=32)"
      ],
      "execution_count": 39,
      "outputs": [
        {
          "output_type": "stream",
          "text": [
            "Epoch 1/10\n",
            "285/285 [==============================] - 15s 37ms/step - loss: 0.4665 - accuracy: 0.8256 - val_loss: 0.4156 - val_accuracy: 0.8478\n",
            "Epoch 2/10\n",
            "285/285 [==============================] - 9s 31ms/step - loss: 0.2188 - accuracy: 0.9199 - val_loss: 0.4461 - val_accuracy: 0.8478\n",
            "Epoch 3/10\n",
            "285/285 [==============================] - 9s 32ms/step - loss: 0.1589 - accuracy: 0.9442 - val_loss: 0.4808 - val_accuracy: 0.8430\n",
            "Epoch 4/10\n",
            "285/285 [==============================] - 9s 32ms/step - loss: 0.1131 - accuracy: 0.9610 - val_loss: 0.5478 - val_accuracy: 0.8316\n",
            "Epoch 5/10\n",
            "285/285 [==============================] - 9s 31ms/step - loss: 0.0818 - accuracy: 0.9738 - val_loss: 0.6287 - val_accuracy: 0.8298\n",
            "Epoch 6/10\n",
            "285/285 [==============================] - 9s 31ms/step - loss: 0.0606 - accuracy: 0.9830 - val_loss: 0.7081 - val_accuracy: 0.8263\n",
            "Epoch 7/10\n",
            "285/285 [==============================] - 9s 31ms/step - loss: 0.0554 - accuracy: 0.9818 - val_loss: 0.7995 - val_accuracy: 0.8210\n",
            "Epoch 8/10\n",
            "285/285 [==============================] - 9s 32ms/step - loss: 0.0404 - accuracy: 0.9887 - val_loss: 0.8541 - val_accuracy: 0.8338\n",
            "Epoch 9/10\n",
            "285/285 [==============================] - 9s 32ms/step - loss: 0.0310 - accuracy: 0.9915 - val_loss: 0.9070 - val_accuracy: 0.8338\n",
            "Epoch 10/10\n",
            "285/285 [==============================] - 9s 31ms/step - loss: 0.0323 - accuracy: 0.9919 - val_loss: 0.9641 - val_accuracy: 0.8338\n"
          ],
          "name": "stdout"
        }
      ]
    },
    {
      "cell_type": "code",
      "metadata": {
        "id": "6wuGPjkYiYDs"
      },
      "source": [
        "#Building GRU MODEL\n",
        "embedding_vector_length = 32\n",
        "gru = Sequential()\n",
        "gru.add(Embedding(vocab_size, embedding_vector_length,     \n",
        "                                     input_length=200) )\n",
        "gru.add(SpatialDropout1D(0.25))\n",
        "gru.add(GRU(50,return_sequences=True))\n",
        "gru.add(Dropout(0.2))\n",
        "gru.add(GRU(120,return_sequences=True))\n",
        "gru.add(Dropout(0.3))\n",
        "gru.add(GRU(40))\n",
        "gru.add(Dense(1, activation='sigmoid'))\n",
        "gru.compile(loss='binary_crossentropy',optimizer='adam', \n",
        "                           metrics=['accuracy'])"
      ],
      "execution_count": 40,
      "outputs": []
    },
    {
      "cell_type": "code",
      "metadata": {
        "colab": {
          "base_uri": "https://localhost:8080/"
        },
        "id": "8xd0d8-liYGN",
        "outputId": "0c654fde-5cb6-4845-8623-775863ec119a"
      },
      "source": [
        "gru.summary()"
      ],
      "execution_count": 41,
      "outputs": [
        {
          "output_type": "stream",
          "text": [
            "Model: \"sequential_5\"\n",
            "_________________________________________________________________\n",
            "Layer (type)                 Output Shape              Param #   \n",
            "=================================================================\n",
            "embedding_5 (Embedding)      (None, 200, 32)           711744    \n",
            "_________________________________________________________________\n",
            "spatial_dropout1d_5 (Spatial (None, 200, 32)           0         \n",
            "_________________________________________________________________\n",
            "gru_6 (GRU)                  (None, 200, 50)           12600     \n",
            "_________________________________________________________________\n",
            "dropout_10 (Dropout)         (None, 200, 50)           0         \n",
            "_________________________________________________________________\n",
            "gru_7 (GRU)                  (None, 200, 120)          61920     \n",
            "_________________________________________________________________\n",
            "dropout_11 (Dropout)         (None, 200, 120)          0         \n",
            "_________________________________________________________________\n",
            "gru_8 (GRU)                  (None, 40)                19440     \n",
            "_________________________________________________________________\n",
            "dense_5 (Dense)              (None, 1)                 41        \n",
            "=================================================================\n",
            "Total params: 805,745\n",
            "Trainable params: 805,745\n",
            "Non-trainable params: 0\n",
            "_________________________________________________________________\n"
          ],
          "name": "stdout"
        }
      ]
    },
    {
      "cell_type": "code",
      "metadata": {
        "colab": {
          "base_uri": "https://localhost:8080/"
        },
        "id": "y-_DfhzviYIj",
        "outputId": "b18f3f87-97f3-42e7-862c-ac4fa013245c"
      },
      "source": [
        "history_gru = gru.fit(padded_sequence,y,\n",
        "                  validation_split=0.2, epochs=10, batch_size=32)"
      ],
      "execution_count": 42,
      "outputs": [
        {
          "output_type": "stream",
          "text": [
            "Epoch 1/10\n",
            "285/285 [==============================] - 13s 33ms/step - loss: 0.4400 - accuracy: 0.8313 - val_loss: 0.4097 - val_accuracy: 0.8320\n",
            "Epoch 2/10\n",
            "285/285 [==============================] - 8s 30ms/step - loss: 0.1976 - accuracy: 0.9313 - val_loss: 0.4165 - val_accuracy: 0.8404\n",
            "Epoch 3/10\n",
            "285/285 [==============================] - 8s 29ms/step - loss: 0.1365 - accuracy: 0.9536 - val_loss: 0.5036 - val_accuracy: 0.8399\n",
            "Epoch 4/10\n",
            "285/285 [==============================] - 8s 29ms/step - loss: 0.1018 - accuracy: 0.9651 - val_loss: 0.5896 - val_accuracy: 0.8347\n",
            "Epoch 5/10\n",
            "285/285 [==============================] - 9s 30ms/step - loss: 0.0751 - accuracy: 0.9753 - val_loss: 0.6460 - val_accuracy: 0.8338\n",
            "Epoch 6/10\n",
            "285/285 [==============================] - 9s 30ms/step - loss: 0.0560 - accuracy: 0.9825 - val_loss: 0.7460 - val_accuracy: 0.8267\n",
            "Epoch 7/10\n",
            "285/285 [==============================] - 8s 29ms/step - loss: 0.0478 - accuracy: 0.9830 - val_loss: 0.8251 - val_accuracy: 0.8263\n",
            "Epoch 8/10\n",
            "285/285 [==============================] - 8s 30ms/step - loss: 0.0348 - accuracy: 0.9893 - val_loss: 0.8466 - val_accuracy: 0.8276\n",
            "Epoch 9/10\n",
            "285/285 [==============================] - 8s 30ms/step - loss: 0.0290 - accuracy: 0.9923 - val_loss: 0.9277 - val_accuracy: 0.8215\n",
            "Epoch 10/10\n",
            "285/285 [==============================] - 9s 30ms/step - loss: 0.0290 - accuracy: 0.9928 - val_loss: 0.8970 - val_accuracy: 0.8250\n"
          ],
          "name": "stdout"
        }
      ]
    },
    {
      "cell_type": "code",
      "metadata": {
        "id": "Zq_DrDLkiYKb"
      },
      "source": [
        ""
      ],
      "execution_count": 42,
      "outputs": []
    },
    {
      "cell_type": "code",
      "metadata": {
        "id": "3BBtVBuniYMv"
      },
      "source": [
        ""
      ],
      "execution_count": 42,
      "outputs": []
    },
    {
      "cell_type": "code",
      "metadata": {
        "id": "CboU-iyW8kd_"
      },
      "source": [
        "LSTM_history = pd.DataFrame(history_lstm.history) \n",
        "GRU_history= pd.DataFrame(history_gru.history)\n",
        "\n",
        "LSTM_history.to_csv('LSTM.csv')\n",
        "GRU_history.to_csv('GRU.csv')"
      ],
      "execution_count": 43,
      "outputs": []
    },
    {
      "cell_type": "code",
      "metadata": {
        "colab": {
          "base_uri": "https://localhost:8080/",
          "height": 204
        },
        "id": "jg2NLOukeR5r",
        "outputId": "d878fa7d-e675-49f1-bd27-c6f254db555d"
      },
      "source": [
        "LSTM_history.head()"
      ],
      "execution_count": 44,
      "outputs": [
        {
          "output_type": "execute_result",
          "data": {
            "text/html": [
              "<div>\n",
              "<style scoped>\n",
              "    .dataframe tbody tr th:only-of-type {\n",
              "        vertical-align: middle;\n",
              "    }\n",
              "\n",
              "    .dataframe tbody tr th {\n",
              "        vertical-align: top;\n",
              "    }\n",
              "\n",
              "    .dataframe thead th {\n",
              "        text-align: right;\n",
              "    }\n",
              "</style>\n",
              "<table border=\"1\" class=\"dataframe\">\n",
              "  <thead>\n",
              "    <tr style=\"text-align: right;\">\n",
              "      <th></th>\n",
              "      <th>loss</th>\n",
              "      <th>accuracy</th>\n",
              "      <th>val_loss</th>\n",
              "      <th>val_accuracy</th>\n",
              "    </tr>\n",
              "  </thead>\n",
              "  <tbody>\n",
              "    <tr>\n",
              "      <th>0</th>\n",
              "      <td>0.396741</td>\n",
              "      <td>0.848015</td>\n",
              "      <td>0.415562</td>\n",
              "      <td>0.847845</td>\n",
              "    </tr>\n",
              "    <tr>\n",
              "      <th>1</th>\n",
              "      <td>0.217522</td>\n",
              "      <td>0.922578</td>\n",
              "      <td>0.446052</td>\n",
              "      <td>0.847845</td>\n",
              "    </tr>\n",
              "    <tr>\n",
              "      <th>2</th>\n",
              "      <td>0.158872</td>\n",
              "      <td>0.943143</td>\n",
              "      <td>0.480822</td>\n",
              "      <td>0.843008</td>\n",
              "    </tr>\n",
              "    <tr>\n",
              "      <th>3</th>\n",
              "      <td>0.118031</td>\n",
              "      <td>0.959309</td>\n",
              "      <td>0.547794</td>\n",
              "      <td>0.831574</td>\n",
              "    </tr>\n",
              "    <tr>\n",
              "      <th>4</th>\n",
              "      <td>0.090583</td>\n",
              "      <td>0.968657</td>\n",
              "      <td>0.628743</td>\n",
              "      <td>0.829815</td>\n",
              "    </tr>\n",
              "  </tbody>\n",
              "</table>\n",
              "</div>"
            ],
            "text/plain": [
              "       loss  accuracy  val_loss  val_accuracy\n",
              "0  0.396741  0.848015  0.415562      0.847845\n",
              "1  0.217522  0.922578  0.446052      0.847845\n",
              "2  0.158872  0.943143  0.480822      0.843008\n",
              "3  0.118031  0.959309  0.547794      0.831574\n",
              "4  0.090583  0.968657  0.628743      0.829815"
            ]
          },
          "metadata": {
            "tags": []
          },
          "execution_count": 44
        }
      ]
    },
    {
      "cell_type": "code",
      "metadata": {
        "colab": {
          "base_uri": "https://localhost:8080/",
          "height": 295
        },
        "id": "PTeZukB98kaj",
        "outputId": "6cf81bf4-b115-4f83-ca60-b97ab58c1008"
      },
      "source": [
        "#Training Accuracy\n",
        "plt.plot(LSTM_history['accuracy'])\n",
        "plt.plot(GRU_history['accuracy'])\n",
        "plt.title(' Training Accuracy')\n",
        "plt.ylabel('Accuracy')\n",
        "plt.xlabel('Epoch')\n",
        "plt.legend(['LSTM', 'GRU'], loc='best')\n",
        "plt.show()"
      ],
      "execution_count": 46,
      "outputs": [
        {
          "output_type": "display_data",
          "data": {
            "image/png": "[encoded data removed]",
            "text/plain": [
              "<Figure size 432x288 with 1 Axes>"
            ]
          },
          "metadata": {
            "tags": [],
            "needs_background": "light"
          }
        }
      ]
    },
    {
      "cell_type": "code",
      "metadata": {
        "colab": {
          "base_uri": "https://localhost:8080/",
          "height": 295
        },
        "id": "cgwX805_8kXz",
        "outputId": "07a458e4-7702-4fd7-a1ee-e10a5c12a47e"
      },
      "source": [
        "#Validation Accuracy\n",
        "plt.plot(LSTM_history['val_accuracy'])\n",
        "plt.plot(GRU_history['val_accuracy'])\n",
        "plt.title(' Validation Accuracy')\n",
        "plt.ylabel('Accuracy')\n",
        "plt.xlabel('Epoch')\n",
        "plt.legend(['LSTM', 'GRU'], loc='best')\n",
        "plt.show()"
      ],
      "execution_count": 47,
      "outputs": [
        {
          "output_type": "display_data",
          "data": {
            "image/png": "[encoded data removed]",
            "text/plain": [
              "<Figure size 432x288 with 1 Axes>"
            ]
          },
          "metadata": {
            "tags": [],
            "needs_background": "light"
          }
        }
      ]
    },
    {
      "cell_type": "code",
      "metadata": {
        "colab": {
          "base_uri": "https://localhost:8080/",
          "height": 295
        },
        "id": "u86qPWIM8kVA",
        "outputId": "789af8a2-d9d4-4ed1-e5e5-1fb9c01f36a0"
      },
      "source": [
        "#Training loss\n",
        "plt.plot(LSTM_history['loss'])\n",
        "plt.plot(GRU_history['loss'])\n",
        "plt.title(' Training loss')\n",
        "plt.ylabel('loss')\n",
        "plt.xlabel('Epoch')\n",
        "plt.legend(['LSTM', 'GRU'], loc='best')\n",
        "plt.show()"
      ],
      "execution_count": 48,
      "outputs": [
        {
          "output_type": "display_data",
          "data": {
            "image/png": "[encoded data removed]",
            "text/plain": [
              "<Figure size 432x288 with 1 Axes>"
            ]
          },
          "metadata": {
            "tags": [],
            "needs_background": "light"
          }
        }
      ]
    },
    {
      "cell_type": "code",
      "metadata": {
        "colab": {
          "base_uri": "https://localhost:8080/",
          "height": 295
        },
        "id": "ytHbm5IWWf6w",
        "outputId": "66cc9423-4968-4a2d-886b-68c5f9dd2bd5"
      },
      "source": [
        "#Validation Loss\n",
        "plt.plot(LSTM_history['val_loss'])\n",
        "plt.plot(GRU_history['val_loss'])\n",
        "plt.title(' Validation Loss')\n",
        "plt.ylabel('loss')\n",
        "plt.xlabel('Epoch')\n",
        "plt.legend(['LSTM', 'GRU'], loc='best')\n",
        "plt.show()"
      ],
      "execution_count": 49,
      "outputs": [
        {
          "output_type": "display_data",
          "data": {
            "image/png": "[encoded data removed]",
            "text/plain": [
              "<Figure size 432x288 with 1 Axes>"
            ]
          },
          "metadata": {
            "tags": [],
            "needs_background": "light"
          }
        }
      ]
    },
    {
      "cell_type": "code",
      "metadata": {
        "id": "eJE2sHvMWf9V"
      },
      "source": [
        ""
      ],
      "execution_count": null,
      "outputs": []
    },
    {
      "cell_type": "code",
      "metadata": {
        "id": "dTKf1_bnWf_v"
      },
      "source": [
        ""
      ],
      "execution_count": null,
      "outputs": []
    }
  ]
}