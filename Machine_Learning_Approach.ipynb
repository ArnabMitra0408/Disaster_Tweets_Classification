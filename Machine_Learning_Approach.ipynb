{
 "cells": [
  {
   "cell_type": "code",
   "execution_count": 261,
   "metadata": {},
   "outputs": [],
   "source": [
    "#Importing all the necessary libraries\n",
    "import numpy as np \n",
    "import pandas as pd \n",
    "import re\n",
    "import string\n",
    "import nltk\n",
    "from nltk.corpus import stopwords\n",
    "import xgboost as xgb\n",
    "from xgboost import XGBClassifier\n",
    "from sklearn import model_selection\n",
    "from sklearn.feature_extraction.text import CountVectorizer,TfidfVectorizer\n",
    "from sklearn.linear_model import LogisticRegression\n",
    "from sklearn.naive_bayes import MultinomialNB\n",
    "from sklearn import preprocessing, decomposition, model_selection, metrics, pipeline\n",
    "from sklearn.model_selection import GridSearchCV,StratifiedKFold,RandomizedSearchCV\n",
    "import matplotlib.pyplot as plt\n",
    "import seaborn as sns\n",
    "import os"
   ]
  },
  {
   "cell_type": "code",
   "execution_count": 262,
   "metadata": {},
   "outputs": [
    {
     "name": "stdout",
     "output_type": "stream",
     "text": [
      "(11370, 5)\n"
     ]
    },
    {
     "data": {
      "text/html": [
       "<div>\n",
       "<style scoped>\n",
       "    .dataframe tbody tr th:only-of-type {\n",
       "        vertical-align: middle;\n",
       "    }\n",
       "\n",
       "    .dataframe tbody tr th {\n",
       "        vertical-align: top;\n",
       "    }\n",
       "\n",
       "    .dataframe thead th {\n",
       "        text-align: right;\n",
       "    }\n",
       "</style>\n",
       "<table border=\"1\" class=\"dataframe\">\n",
       "  <thead>\n",
       "    <tr style=\"text-align: right;\">\n",
       "      <th></th>\n",
       "      <th>id</th>\n",
       "      <th>keyword</th>\n",
       "      <th>location</th>\n",
       "      <th>text</th>\n",
       "      <th>target</th>\n",
       "    </tr>\n",
       "  </thead>\n",
       "  <tbody>\n",
       "    <tr>\n",
       "      <th>0</th>\n",
       "      <td>0</td>\n",
       "      <td>ablaze</td>\n",
       "      <td>NaN</td>\n",
       "      <td>communal violence bhainsa telangana stone pelt...</td>\n",
       "      <td>1</td>\n",
       "    </tr>\n",
       "    <tr>\n",
       "      <th>1</th>\n",
       "      <td>1</td>\n",
       "      <td>ablaze</td>\n",
       "      <td>NaN</td>\n",
       "      <td>telangana section imposed bhainsa january clas...</td>\n",
       "      <td>1</td>\n",
       "    </tr>\n",
       "    <tr>\n",
       "      <th>2</th>\n",
       "      <td>2</td>\n",
       "      <td>ablaze</td>\n",
       "      <td>USA</td>\n",
       "      <td>arsonist set car ablaze dealership</td>\n",
       "      <td>1</td>\n",
       "    </tr>\n",
       "    <tr>\n",
       "      <th>3</th>\n",
       "      <td>3</td>\n",
       "      <td>ablaze</td>\n",
       "      <td>Morgantown, WV</td>\n",
       "      <td>arsonist set car ablaze dealership</td>\n",
       "      <td>1</td>\n",
       "    </tr>\n",
       "    <tr>\n",
       "      <th>4</th>\n",
       "      <td>4</td>\n",
       "      <td>ablaze</td>\n",
       "      <td>NaN</td>\n",
       "      <td>lord jesus love brings freedom pardon fill hol...</td>\n",
       "      <td>0</td>\n",
       "    </tr>\n",
       "  </tbody>\n",
       "</table>\n",
       "</div>"
      ],
      "text/plain": [
       "   id keyword        location  \\\n",
       "0   0  ablaze             NaN   \n",
       "1   1  ablaze             NaN   \n",
       "2   2  ablaze             USA   \n",
       "3   3  ablaze  Morgantown, WV   \n",
       "4   4  ablaze             NaN   \n",
       "\n",
       "                                                text  target  \n",
       "0  communal violence bhainsa telangana stone pelt...       1  \n",
       "1  telangana section imposed bhainsa january clas...       1  \n",
       "2                 arsonist set car ablaze dealership       1  \n",
       "3                 arsonist set car ablaze dealership       1  \n",
       "4  lord jesus love brings freedom pardon fill hol...       0  "
      ]
     },
     "execution_count": 262,
     "metadata": {},
     "output_type": "execute_result"
    }
   ],
   "source": [
    "df=pd.read_csv('Cleaned_Data.csv')\n",
    "print(df.shape)\n",
    "df.head()"
   ]
  },
  {
   "cell_type": "code",
   "execution_count": 263,
   "metadata": {},
   "outputs": [
    {
     "data": {
      "text/plain": [
       "id             0\n",
       "keyword        0\n",
       "location    3418\n",
       "text           3\n",
       "target         0\n",
       "dtype: int64"
      ]
     },
     "execution_count": 263,
     "metadata": {},
     "output_type": "execute_result"
    }
   ],
   "source": [
    "#Checking for Null values\n",
    "df.isna().sum()"
   ]
  },
  {
   "cell_type": "code",
   "execution_count": 264,
   "metadata": {},
   "outputs": [],
   "source": [
    "df.dropna(subset = ['text'],inplace=True)"
   ]
  },
  {
   "cell_type": "code",
   "execution_count": 265,
   "metadata": {},
   "outputs": [],
   "source": [
    "X = df['text']\n",
    "y = df['target']"
   ]
  },
  {
   "cell_type": "markdown",
   "metadata": {},
   "source": [
    "### Model"
   ]
  },
  {
   "cell_type": "code",
   "execution_count": 266,
   "metadata": {},
   "outputs": [],
   "source": [
    "X_train,X_test,y_train,y_test=model_selection.train_test_split(X,y,test_size=0.2,random_state=1)\n",
    "vectorizer=CountVectorizer()\n",
    "x_train_vectors=vectorizer.fit_transform(X_train)\n",
    "x_test_vectors=vectorizer.transform(X_test)"
   ]
  },
  {
   "cell_type": "code",
   "execution_count": 267,
   "metadata": {},
   "outputs": [
    {
     "data": {
      "text/plain": [
       "4739     time darkness come ray hope judge kamini lau s...\n",
       "10684    psychedelic poster ‘ served pulsating visual r...\n",
       "11089    photographer shooting australia wildfire time ...\n",
       "6931     texas governor greg abbott r first governor un...\n",
       "6702     know people bute called brandanes saint brenda...\n",
       "Name: text, dtype: object"
      ]
     },
     "execution_count": 267,
     "metadata": {},
     "output_type": "execute_result"
    }
   ],
   "source": [
    "X_train.head()"
   ]
  },
  {
   "cell_type": "code",
   "execution_count": 268,
   "metadata": {},
   "outputs": [
    {
     "data": {
      "text/plain": [
       "matrix([[0, 0, 0, ..., 0, 0, 0],\n",
       "        [0, 0, 0, ..., 0, 0, 0],\n",
       "        [0, 0, 0, ..., 0, 0, 0],\n",
       "        ...,\n",
       "        [0, 0, 0, ..., 0, 0, 0],\n",
       "        [0, 0, 0, ..., 0, 0, 0],\n",
       "        [0, 0, 0, ..., 0, 0, 0]], dtype=int64)"
      ]
     },
     "execution_count": 268,
     "metadata": {},
     "output_type": "execute_result"
    }
   ],
   "source": [
    "x_train_vectors.todense()"
   ]
  },
  {
   "cell_type": "code",
   "execution_count": 269,
   "metadata": {},
   "outputs": [],
   "source": [
    "tfidf = TfidfVectorizer(min_df=2, max_df=0.5, ngram_range=(1, 2))\n",
    "train_tfidf = tfidf.fit_transform(X_train)\n",
    "test_tfidf = tfidf.transform(X_test)"
   ]
  },
  {
   "cell_type": "code",
   "execution_count": 270,
   "metadata": {},
   "outputs": [
    {
     "data": {
      "text/plain": [
       "<9093x15230 sparse matrix of type '<class 'numpy.float64'>'\n",
       "\twith 96509 stored elements in Compressed Sparse Row format>"
      ]
     },
     "execution_count": 270,
     "metadata": {},
     "output_type": "execute_result"
    }
   ],
   "source": [
    "train_tfidf"
   ]
  },
  {
   "cell_type": "markdown",
   "metadata": {},
   "source": [
    "## Logistic Regression - Count Vectorizer"
   ]
  },
  {
   "cell_type": "code",
   "execution_count": 271,
   "metadata": {},
   "outputs": [
    {
     "data": {
      "text/plain": [
       "GridSearchCV(cv=4, error_score=nan,\n",
       "             estimator=LogisticRegression(C=1.0, class_weight={0: 1, 1: 5},\n",
       "                                          dual=False, fit_intercept=True,\n",
       "                                          intercept_scaling=1, l1_ratio=None,\n",
       "                                          max_iter=10000, multi_class='auto',\n",
       "                                          n_jobs=None, penalty='l2',\n",
       "                                          random_state=1, solver='lbfgs',\n",
       "                                          tol=0.0001, verbose=0,\n",
       "                                          warm_start=False),\n",
       "             iid='deprecated', n_jobs=None,\n",
       "             param_grid={'C': [0.001, 0.01, 0.1, 1, 10, 100, 1000]},\n",
       "             pre_dispatch='2*n_jobs', refit=True, return_train_score=False,\n",
       "             scoring=None, verbose=0)"
      ]
     },
     "execution_count": 271,
     "metadata": {},
     "output_type": "execute_result"
    }
   ],
   "source": [
    "# Fitting Logistic Regression Model on Count Vectorizer using gridsearch_cv\n",
    "lr = LogisticRegression(random_state=1,class_weight={0:1,1:5},max_iter=10000)\n",
    "grid_values = {'C': [0.001,0.01,0.1,1,10,100,1000]}\n",
    "model_lr = GridSearchCV(lr, param_grid=grid_values,cv=4)\n",
    "model_lr.fit(x_train_vectors,y_train)\n"
   ]
  },
  {
   "cell_type": "code",
   "execution_count": 272,
   "metadata": {},
   "outputs": [
    {
     "name": "stdout",
     "output_type": "stream",
     "text": [
      "0.8736392881754805\n",
      "LogisticRegression(C=10, class_weight={0: 1, 1: 5}, dual=False,\n",
      "                   fit_intercept=True, intercept_scaling=1, l1_ratio=None,\n",
      "                   max_iter=10000, multi_class='auto', n_jobs=None,\n",
      "                   penalty='l2', random_state=1, solver='lbfgs', tol=0.0001,\n",
      "                   verbose=0, warm_start=False)\n"
     ]
    }
   ],
   "source": [
    "print(model_lr.best_score_)\n",
    "print(model_lr.best_estimator_)"
   ]
  },
  {
   "cell_type": "code",
   "execution_count": 273,
   "metadata": {},
   "outputs": [],
   "source": [
    "#Getting the best logistic regression model\n",
    "clf=model_lr.best_estimator_\n"
   ]
  },
  {
   "cell_type": "code",
   "execution_count": 274,
   "metadata": {},
   "outputs": [
    {
     "name": "stdout",
     "output_type": "stream",
     "text": [
      "Accuracy Train:  0.9985703288243704\n",
      "Accuracy Test:  0.8773087071240105\n",
      "\n",
      " Classification Report Train\n",
      "\n",
      "              precision    recall  f1-score   support\n",
      "\n",
      "           0       1.00      1.00      1.00      7432\n",
      "           1       0.99      1.00      1.00      1661\n",
      "\n",
      "    accuracy                           1.00      9093\n",
      "   macro avg       1.00      1.00      1.00      9093\n",
      "weighted avg       1.00      1.00      1.00      9093\n",
      "\n",
      "\n",
      " Classification Report Test\n",
      "\n",
      "              precision    recall  f1-score   support\n",
      "\n",
      "           0       0.92      0.93      0.92      1821\n",
      "           1       0.70      0.68      0.69       453\n",
      "\n",
      "    accuracy                           0.88      2274\n",
      "   macro avg       0.81      0.80      0.81      2274\n",
      "weighted avg       0.88      0.88      0.88      2274\n",
      "\n",
      "\n",
      " Confusion Matrix Train\n",
      "\n"
     ]
    },
    {
     "data": {
      "image/png": "[encoded data removed]",
      "text/plain": [
       "<Figure size 576x396 with 2 Axes>"
      ]
     },
     "metadata": {},
     "output_type": "display_data"
    },
    {
     "name": "stdout",
     "output_type": "stream",
     "text": [
      "\n",
      " Confusion Matrix Test\n",
      "\n"
     ]
    },
    {
     "data": {
      "image/png": "[encoded data removed]",
      "text/plain": [
       "<Figure size 576x396 with 2 Axes>"
      ]
     },
     "metadata": {},
     "output_type": "display_data"
    }
   ],
   "source": [
    "pred=clf.predict(x_test_vectors)\n",
    "accuracy_score_train=metrics.accuracy_score(y_train,clf.predict(x_train_vectors))\n",
    "print(\"Accuracy Train: \",accuracy_score_train)\n",
    "accuracy_score_test=metrics.accuracy_score(y_test,pred)\n",
    "print(\"Accuracy Test: \",accuracy_score_test)\n",
    "classification_report_train=metrics.classification_report(y_train,clf.predict(x_train_vectors))\n",
    "print(\"\\n Classification Report Train\\n\")\n",
    "print(classification_report_train)\n",
    "classification_report_test=metrics.classification_report(y_test,pred)\n",
    "print(\"\\n Classification Report Test\\n\")\n",
    "print(classification_report_test)\n",
    "\n",
    "confusion_matrix_train=metrics.confusion_matrix(y_train,clf.predict(x_train_vectors))\n",
    "print(\"\\n Confusion Matrix Train\\n\")\n",
    "sns.heatmap(confusion_matrix_train,annot=True,fmt=\"1g\")\n",
    "plt.show()\n",
    "confusion_matrix_test=metrics.confusion_matrix(y_test,pred)\n",
    "print(\"\\n Confusion Matrix Test\\n\")\n",
    "sns.heatmap(confusion_matrix_test,annot=True,fmt=\"1g\")\n",
    "plt.show()"
   ]
  },
  {
   "cell_type": "markdown",
   "metadata": {},
   "source": [
    "## Logistic Regression- Tf-idf vectorizer"
   ]
  },
  {
   "cell_type": "code",
   "execution_count": 275,
   "metadata": {},
   "outputs": [
    {
     "data": {
      "text/plain": [
       "GridSearchCV(cv=4, error_score=nan,\n",
       "             estimator=LogisticRegression(C=1.0, class_weight={0: 1, 1: 5},\n",
       "                                          dual=False, fit_intercept=True,\n",
       "                                          intercept_scaling=1, l1_ratio=None,\n",
       "                                          max_iter=10000, multi_class='auto',\n",
       "                                          n_jobs=None, penalty='l2',\n",
       "                                          random_state=1, solver='lbfgs',\n",
       "                                          tol=0.0001, verbose=0,\n",
       "                                          warm_start=False),\n",
       "             iid='deprecated', n_jobs=None,\n",
       "             param_grid={'C': [0.001, 0.01, 0.1, 1, 10, 100, 1000]},\n",
       "             pre_dispatch='2*n_jobs', refit=True, return_train_score=False,\n",
       "             scoring=None, verbose=0)"
      ]
     },
     "execution_count": 275,
     "metadata": {},
     "output_type": "execute_result"
    }
   ],
   "source": [
    "# Fitting Logistic Regression Model on Tf-idf vectorizer using gridsearch_cv\n",
    "lr = LogisticRegression(random_state=1,class_weight={0:1,1:5},max_iter=10000)\n",
    "grid_values = {'C': [0.001,0.01,0.1,1,10,100,1000]}\n",
    "model_lr = GridSearchCV(lr, param_grid=grid_values,cv=4)\n",
    "model_lr.fit(train_tfidf,y_train)"
   ]
  },
  {
   "cell_type": "code",
   "execution_count": 276,
   "metadata": {},
   "outputs": [
    {
     "name": "stdout",
     "output_type": "stream",
     "text": [
      "0.8769384569190307\n",
      "LogisticRegression(C=10, class_weight={0: 1, 1: 5}, dual=False,\n",
      "                   fit_intercept=True, intercept_scaling=1, l1_ratio=None,\n",
      "                   max_iter=10000, multi_class='auto', n_jobs=None,\n",
      "                   penalty='l2', random_state=1, solver='lbfgs', tol=0.0001,\n",
      "                   verbose=0, warm_start=False)\n"
     ]
    }
   ],
   "source": [
    "print(model_lr.best_score_)\n",
    "print(model_lr.best_estimator_)"
   ]
  },
  {
   "cell_type": "code",
   "execution_count": 277,
   "metadata": {},
   "outputs": [],
   "source": [
    "#Getting the best logistic regression model\n",
    "clf=model_lr.best_estimator_"
   ]
  },
  {
   "cell_type": "code",
   "execution_count": 278,
   "metadata": {},
   "outputs": [
    {
     "name": "stdout",
     "output_type": "stream",
     "text": [
      "Accuracy Train:  0.9888925547124161\n",
      "Accuracy Test:  0.8777484608619174\n",
      "\n",
      " Classification Report Train\n",
      "\n",
      "              precision    recall  f1-score   support\n",
      "\n",
      "           0       1.00      0.99      0.99      7432\n",
      "           1       0.94      1.00      0.97      1661\n",
      "\n",
      "    accuracy                           0.99      9093\n",
      "   macro avg       0.97      0.99      0.98      9093\n",
      "weighted avg       0.99      0.99      0.99      9093\n",
      "\n",
      "\n",
      " Classification Report Test\n",
      "\n",
      "              precision    recall  f1-score   support\n",
      "\n",
      "           0       0.93      0.92      0.92      1821\n",
      "           1       0.68      0.73      0.70       453\n",
      "\n",
      "    accuracy                           0.88      2274\n",
      "   macro avg       0.81      0.82      0.81      2274\n",
      "weighted avg       0.88      0.88      0.88      2274\n",
      "\n",
      "\n",
      " Confusion Matrix Train\n",
      "\n"
     ]
    },
    {
     "data": {
      "image/png": "[encoded data removed]",
      "text/plain": [
       "<Figure size 576x396 with 2 Axes>"
      ]
     },
     "metadata": {},
     "output_type": "display_data"
    },
    {
     "name": "stdout",
     "output_type": "stream",
     "text": [
      "\n",
      " Confusion Matrix Test\n",
      "\n"
     ]
    },
    {
     "data": {
      "image/png": "[encoded data removed]",
      "text/plain": [
       "<Figure size 576x396 with 2 Axes>"
      ]
     },
     "metadata": {},
     "output_type": "display_data"
    }
   ],
   "source": [
    "pred=clf.predict(test_tfidf)\n",
    "accuracy_score_train=metrics.accuracy_score(y_train,clf.predict(train_tfidf))\n",
    "print(\"Accuracy Train: \",accuracy_score_train)\n",
    "accuracy_score_test=metrics.accuracy_score(y_test,pred)\n",
    "print(\"Accuracy Test: \",accuracy_score_test)\n",
    "classification_report_train=metrics.classification_report(y_train,clf.predict(train_tfidf))\n",
    "print(\"\\n Classification Report Train\\n\")\n",
    "print(classification_report_train)\n",
    "classification_report_test=metrics.classification_report(y_test,pred)\n",
    "print(\"\\n Classification Report Test\\n\")\n",
    "print(classification_report_test)\n",
    "\n",
    "confusion_matrix_train=metrics.confusion_matrix(y_train,clf.predict(train_tfidf))\n",
    "print(\"\\n Confusion Matrix Train\\n\")\n",
    "sns.heatmap(confusion_matrix_train,annot=True,fmt=\"1g\")\n",
    "plt.show()\n",
    "confusion_matrix_test=metrics.confusion_matrix(y_test,pred)\n",
    "print(\"\\n Confusion Matrix Test\\n\")\n",
    "sns.heatmap(confusion_matrix_test,annot=True,fmt=\"1g\")\n",
    "plt.show()"
   ]
  },
  {
   "cell_type": "code",
   "execution_count": null,
   "metadata": {},
   "outputs": [],
   "source": []
  },
  {
   "cell_type": "markdown",
   "metadata": {},
   "source": [
    "## Naive Bayes - Count Vectorizer"
   ]
  },
  {
   "cell_type": "code",
   "execution_count": 279,
   "metadata": {},
   "outputs": [
    {
     "data": {
      "text/plain": [
       "GridSearchCV(cv=4, error_score=nan,\n",
       "             estimator=LogisticRegression(C=1.0, class_weight={0: 1, 1: 5},\n",
       "                                          dual=False, fit_intercept=True,\n",
       "                                          intercept_scaling=1, l1_ratio=None,\n",
       "                                          max_iter=10000, multi_class='auto',\n",
       "                                          n_jobs=None, penalty='l2',\n",
       "                                          random_state=1, solver='lbfgs',\n",
       "                                          tol=0.0001, verbose=0,\n",
       "                                          warm_start=False),\n",
       "             iid='deprecated', n_jobs=None,\n",
       "             param_grid={'C': [0.001, 0.01, 0.1, 1, 10, 100, 1000]},\n",
       "             pre_dispatch='2*n_jobs', refit=True, return_train_score=False,\n",
       "             scoring=None, verbose=0)"
      ]
     },
     "execution_count": 279,
     "metadata": {},
     "output_type": "execute_result"
    }
   ],
   "source": [
    "# Fitting Multinomial Naive Bayes Model on Count vectorizer using gridsearch_cv\n",
    "nb = MultinomialNB()\n",
    "parameters = {  \n",
    "'alpha': (1, 0.1, 0.01, 0.001, 0.0001, 0.00001)  \n",
    "}  \n",
    "grid_search= GridSearchCV(nb, parameters)\n",
    "model_nb = GridSearchCV(lr, param_grid=grid_values,cv=4)\n",
    "model_nb.fit(x_train_vectors,y_train)"
   ]
  },
  {
   "cell_type": "code",
   "execution_count": 280,
   "metadata": {},
   "outputs": [],
   "source": [
    "#Getting the best model\n",
    "clf=model_nb.best_estimator_"
   ]
  },
  {
   "cell_type": "code",
   "execution_count": 281,
   "metadata": {},
   "outputs": [
    {
     "name": "stdout",
     "output_type": "stream",
     "text": [
      "Accuracy Train:  0.9985703288243704\n",
      "Accuracy Test:  0.8773087071240105\n",
      "\n",
      " Classification Report Train\n",
      "\n",
      "              precision    recall  f1-score   support\n",
      "\n",
      "           0       1.00      1.00      1.00      7432\n",
      "           1       0.99      1.00      1.00      1661\n",
      "\n",
      "    accuracy                           1.00      9093\n",
      "   macro avg       1.00      1.00      1.00      9093\n",
      "weighted avg       1.00      1.00      1.00      9093\n",
      "\n",
      "\n",
      " Classification Report Test\n",
      "\n",
      "              precision    recall  f1-score   support\n",
      "\n",
      "           0       0.92      0.93      0.92      1821\n",
      "           1       0.70      0.68      0.69       453\n",
      "\n",
      "    accuracy                           0.88      2274\n",
      "   macro avg       0.81      0.80      0.81      2274\n",
      "weighted avg       0.88      0.88      0.88      2274\n",
      "\n",
      "\n",
      " Confusion Matrix Train\n",
      "\n"
     ]
    },
    {
     "data": {
      "image/png": "[encoded data removed]",
      "text/plain": [
       "<Figure size 576x396 with 2 Axes>"
      ]
     },
     "metadata": {},
     "output_type": "display_data"
    },
    {
     "name": "stdout",
     "output_type": "stream",
     "text": [
      "\n",
      " Confusion Matrix Test\n",
      "\n"
     ]
    },
    {
     "data": {
      "image/png": "[encoded data removed]",
      "text/plain": [
       "<Figure size 576x396 with 2 Axes>"
      ]
     },
     "metadata": {},
     "output_type": "display_data"
    }
   ],
   "source": [
    "pred=clf.predict(x_test_vectors)\n",
    "accuracy_score_train=metrics.accuracy_score(y_train,clf.predict(x_train_vectors))\n",
    "print(\"Accuracy Train: \",accuracy_score_train)\n",
    "accuracy_score_test=metrics.accuracy_score(y_test,pred)\n",
    "print(\"Accuracy Test: \",accuracy_score_test)\n",
    "classification_report_train=metrics.classification_report(y_train,clf.predict(x_train_vectors))\n",
    "print(\"\\n Classification Report Train\\n\")\n",
    "print(classification_report_train)\n",
    "classification_report_test=metrics.classification_report(y_test,pred)\n",
    "print(\"\\n Classification Report Test\\n\")\n",
    "print(classification_report_test)\n",
    "\n",
    "confusion_matrix_train=metrics.confusion_matrix(y_train,clf.predict(x_train_vectors))\n",
    "print(\"\\n Confusion Matrix Train\\n\")\n",
    "sns.heatmap(confusion_matrix_train,annot=True,fmt=\"1g\")\n",
    "plt.show()\n",
    "confusion_matrix_test=metrics.confusion_matrix(y_test,pred)\n",
    "print(\"\\n Confusion Matrix Test\\n\")\n",
    "sns.heatmap(confusion_matrix_test,annot=True,fmt=\"1g\")\n",
    "plt.show()"
   ]
  },
  {
   "cell_type": "code",
   "execution_count": null,
   "metadata": {},
   "outputs": [],
   "source": []
  },
  {
   "cell_type": "markdown",
   "metadata": {},
   "source": [
    "## Naive Bayes - TfIdf Vectorizer"
   ]
  },
  {
   "cell_type": "code",
   "execution_count": 282,
   "metadata": {},
   "outputs": [
    {
     "data": {
      "text/plain": [
       "GridSearchCV(cv=4, error_score=nan,\n",
       "             estimator=LogisticRegression(C=1.0, class_weight={0: 1, 1: 5},\n",
       "                                          dual=False, fit_intercept=True,\n",
       "                                          intercept_scaling=1, l1_ratio=None,\n",
       "                                          max_iter=10000, multi_class='auto',\n",
       "                                          n_jobs=None, penalty='l2',\n",
       "                                          random_state=1, solver='lbfgs',\n",
       "                                          tol=0.0001, verbose=0,\n",
       "                                          warm_start=False),\n",
       "             iid='deprecated', n_jobs=None,\n",
       "             param_grid={'C': [0.001, 0.01, 0.1, 1, 10, 100, 1000]},\n",
       "             pre_dispatch='2*n_jobs', refit=True, return_train_score=False,\n",
       "             scoring=None, verbose=0)"
      ]
     },
     "execution_count": 282,
     "metadata": {},
     "output_type": "execute_result"
    }
   ],
   "source": [
    "# Fitting Multinomial Naive Bayes Model on Tf-idf vectorizer using gridsearch_cv\n",
    "nb = MultinomialNB()\n",
    "parameters = {  \n",
    "'alpha': (1, 0.1, 0.01, 0.001, 0.0001, 0.00001)  \n",
    "}  \n",
    "grid_search= GridSearchCV(nb, parameters)\n",
    "model_nb = GridSearchCV(lr, param_grid=grid_values,cv=4)\n",
    "model_nb.fit(train_tfidf,y_train)"
   ]
  },
  {
   "cell_type": "code",
   "execution_count": 283,
   "metadata": {},
   "outputs": [],
   "source": [
    "#Getting the best model\n",
    "clf=model_nb.best_estimator_"
   ]
  },
  {
   "cell_type": "code",
   "execution_count": 284,
   "metadata": {},
   "outputs": [
    {
     "name": "stdout",
     "output_type": "stream",
     "text": [
      "Accuracy Train:  0.9888925547124161\n",
      "Accuracy Test:  0.8777484608619174\n",
      "\n",
      " Classification Report Train\n",
      "\n",
      "              precision    recall  f1-score   support\n",
      "\n",
      "           0       1.00      0.99      0.99      7432\n",
      "           1       0.94      1.00      0.97      1661\n",
      "\n",
      "    accuracy                           0.99      9093\n",
      "   macro avg       0.97      0.99      0.98      9093\n",
      "weighted avg       0.99      0.99      0.99      9093\n",
      "\n",
      "\n",
      " Classification Report Test\n",
      "\n",
      "              precision    recall  f1-score   support\n",
      "\n",
      "           0       0.93      0.92      0.92      1821\n",
      "           1       0.68      0.73      0.70       453\n",
      "\n",
      "    accuracy                           0.88      2274\n",
      "   macro avg       0.81      0.82      0.81      2274\n",
      "weighted avg       0.88      0.88      0.88      2274\n",
      "\n",
      "\n",
      " Confusion Matrix Train\n",
      "\n"
     ]
    },
    {
     "data": {
      "image/png": "[encoded data removed]",
      "text/plain": [
       "<Figure size 576x396 with 2 Axes>"
      ]
     },
     "metadata": {},
     "output_type": "display_data"
    },
    {
     "name": "stdout",
     "output_type": "stream",
     "text": [
      "\n",
      " Confusion Matrix Test\n",
      "\n"
     ]
    },
    {
     "data": {
      "image/png": "[encoded data removed]",
      "text/plain": [
       "<Figure size 576x396 with 2 Axes>"
      ]
     },
     "metadata": {},
     "output_type": "display_data"
    }
   ],
   "source": [
    "pred=clf.predict(test_tfidf)\n",
    "accuracy_score_train=metrics.accuracy_score(y_train,clf.predict(train_tfidf))\n",
    "print(\"Accuracy Train: \",accuracy_score_train)\n",
    "accuracy_score_test=metrics.accuracy_score(y_test,pred)\n",
    "print(\"Accuracy Test: \",accuracy_score_test)\n",
    "classification_report_train=metrics.classification_report(y_train,clf.predict(train_tfidf))\n",
    "print(\"\\n Classification Report Train\\n\")\n",
    "print(classification_report_train)\n",
    "classification_report_test=metrics.classification_report(y_test,pred)\n",
    "print(\"\\n Classification Report Test\\n\")\n",
    "print(classification_report_test)\n",
    "\n",
    "confusion_matrix_train=metrics.confusion_matrix(y_train,clf.predict(train_tfidf))\n",
    "print(\"\\n Confusion Matrix Train\\n\")\n",
    "sns.heatmap(confusion_matrix_train,annot=True,fmt=\"1g\")\n",
    "plt.show()\n",
    "confusion_matrix_test=metrics.confusion_matrix(y_test,pred)\n",
    "print(\"\\n Confusion Matrix Test\\n\")\n",
    "sns.heatmap(confusion_matrix_test,annot=True,fmt=\"1g\")\n",
    "plt.show()"
   ]
  },
  {
   "cell_type": "code",
   "execution_count": null,
   "metadata": {},
   "outputs": [],
   "source": []
  }
 ],
 "metadata": {
  "kernelspec": {
   "display_name": "Python 3",
   "language": "python",
   "name": "python3"
  },
  "language_info": {
   "codemirror_mode": {
    "name": "ipython",
    "version": 3
   },
   "file_extension": ".py",
   "mimetype": "text/x-python",
   "name": "python",
   "nbconvert_exporter": "python",
   "pygments_lexer": "ipython3",
   "version": "3.7.0"
  }
 },
 "nbformat": 4,
 "nbformat_minor": 2
}
