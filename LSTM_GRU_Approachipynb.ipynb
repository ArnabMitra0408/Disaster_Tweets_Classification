{
  "nbformat": 4,
  "nbformat_minor": 0,
  "metadata": {
    "colab": {
      "name": "LSTM_GRU_Approachipynb",
      "provenance": [],
      "collapsed_sections": []
    },
    "kernelspec": {
      "name": "python3",
      "display_name": "Python 3"
    },
    "language_info": {
      "name": "python"
    },
    "accelerator": "GPU"
  },
  "cells": [
    {
      "cell_type": "code",
      "metadata": {
        "id": "eKftLprD5UBi"
      },
      "source": [
        "import numpy as np\n",
        "import pandas as pd\n",
        "import seaborn as sns\n",
        "import matplotlib.pyplot as plt\n",
        "import keras\n",
        "from keras.layers import *\n",
        "from keras.models import *\n",
        "from keras.optimizers import *\n",
        "from keras.utils import np_utils\n",
        "from sklearn.model_selection import train_test_split\n",
        "from sklearn.feature_extraction.text import CountVectorizer,TfidfVectorizer"
      ],
      "execution_count": 1,
      "outputs": []
    },
    {
      "cell_type": "code",
      "metadata": {
        "id": "e9zXi7WE5d9o"
      },
      "source": [
        "df=pd.read_csv('Cleaned_Data.csv')"
      ],
      "execution_count": 2,
      "outputs": []
    },
    {
      "cell_type": "code",
      "metadata": {
        "id": "LI7cXVPV5eAw",
        "colab": {
          "base_uri": "https://localhost:8080/",
          "height": 204
        },
        "outputId": "b5c60096-8319-43e5-fc41-f7ce937bf154"
      },
      "source": [
        "df.head()"
      ],
      "execution_count": 3,
      "outputs": [
        {
          "output_type": "execute_result",
          "data": {
            "text/html": [
              "<div>\n",
              "<style scoped>\n",
              "    .dataframe tbody tr th:only-of-type {\n",
              "        vertical-align: middle;\n",
              "    }\n",
              "\n",
              "    .dataframe tbody tr th {\n",
              "        vertical-align: top;\n",
              "    }\n",
              "\n",
              "    .dataframe thead th {\n",
              "        text-align: right;\n",
              "    }\n",
              "</style>\n",
              "<table border=\"1\" class=\"dataframe\">\n",
              "  <thead>\n",
              "    <tr style=\"text-align: right;\">\n",
              "      <th></th>\n",
              "      <th>id</th>\n",
              "      <th>keyword</th>\n",
              "      <th>location</th>\n",
              "      <th>text</th>\n",
              "      <th>target</th>\n",
              "    </tr>\n",
              "  </thead>\n",
              "  <tbody>\n",
              "    <tr>\n",
              "      <th>0</th>\n",
              "      <td>0</td>\n",
              "      <td>ablaze</td>\n",
              "      <td>NaN</td>\n",
              "      <td>communal violence bhainsa telangana stone pelt...</td>\n",
              "      <td>1</td>\n",
              "    </tr>\n",
              "    <tr>\n",
              "      <th>1</th>\n",
              "      <td>1</td>\n",
              "      <td>ablaze</td>\n",
              "      <td>NaN</td>\n",
              "      <td>telangana section imposed bhainsa january clas...</td>\n",
              "      <td>1</td>\n",
              "    </tr>\n",
              "    <tr>\n",
              "      <th>2</th>\n",
              "      <td>2</td>\n",
              "      <td>ablaze</td>\n",
              "      <td>USA</td>\n",
              "      <td>arsonist set car ablaze dealership</td>\n",
              "      <td>1</td>\n",
              "    </tr>\n",
              "    <tr>\n",
              "      <th>3</th>\n",
              "      <td>3</td>\n",
              "      <td>ablaze</td>\n",
              "      <td>Morgantown, WV</td>\n",
              "      <td>arsonist set car ablaze dealership</td>\n",
              "      <td>1</td>\n",
              "    </tr>\n",
              "    <tr>\n",
              "      <th>4</th>\n",
              "      <td>4</td>\n",
              "      <td>ablaze</td>\n",
              "      <td>NaN</td>\n",
              "      <td>lord jesus love brings freedom pardon fill hol...</td>\n",
              "      <td>0</td>\n",
              "    </tr>\n",
              "  </tbody>\n",
              "</table>\n",
              "</div>"
            ],
            "text/plain": [
              "   id keyword  ...                                               text target\n",
              "0   0  ablaze  ...  communal violence bhainsa telangana stone pelt...      1\n",
              "1   1  ablaze  ...  telangana section imposed bhainsa january clas...      1\n",
              "2   2  ablaze  ...                 arsonist set car ablaze dealership      1\n",
              "3   3  ablaze  ...                 arsonist set car ablaze dealership      1\n",
              "4   4  ablaze  ...  lord jesus love brings freedom pardon fill hol...      0\n",
              "\n",
              "[5 rows x 5 columns]"
            ]
          },
          "metadata": {
            "tags": []
          },
          "execution_count": 3
        }
      ]
    },
    {
      "cell_type": "code",
      "metadata": {
        "id": "kn3sd8uU5eDf",
        "colab": {
          "base_uri": "https://localhost:8080/"
        },
        "outputId": "be200a3a-b26b-492a-fc34-9c41b19e62d2"
      },
      "source": [
        "df.isna().sum()"
      ],
      "execution_count": 4,
      "outputs": [
        {
          "output_type": "execute_result",
          "data": {
            "text/plain": [
              "id             0\n",
              "keyword        0\n",
              "location    3418\n",
              "text           3\n",
              "target         0\n",
              "dtype: int64"
            ]
          },
          "metadata": {
            "tags": []
          },
          "execution_count": 4
        }
      ]
    },
    {
      "cell_type": "code",
      "metadata": {
        "id": "NhkteSwg5eF0"
      },
      "source": [
        "df.dropna(subset = ['text'],inplace=True)"
      ],
      "execution_count": 5,
      "outputs": []
    },
    {
      "cell_type": "code",
      "metadata": {
        "id": "y4ZeIMxk5eI0",
        "colab": {
          "base_uri": "https://localhost:8080/"
        },
        "outputId": "bbe937e3-0c00-4e7b-fc37-da36f055ec9a"
      },
      "source": [
        "df.isna().sum()"
      ],
      "execution_count": 6,
      "outputs": [
        {
          "output_type": "execute_result",
          "data": {
            "text/plain": [
              "id             0\n",
              "keyword        0\n",
              "location    3417\n",
              "text           0\n",
              "target         0\n",
              "dtype: int64"
            ]
          },
          "metadata": {
            "tags": []
          },
          "execution_count": 6
        }
      ]
    },
    {
      "cell_type": "code",
      "metadata": {
        "id": "9BCjdX_F6Qht"
      },
      "source": [
        "X = df['text']\n",
        "y = df['target']"
      ],
      "execution_count": 7,
      "outputs": []
    },
    {
      "cell_type": "code",
      "metadata": {
        "id": "jjYCSWD55eLa"
      },
      "source": [
        "tfidf = TfidfVectorizer(min_df=2, max_df=0.5, ngram_range=(1, 1))\n",
        "X_tf = tfidf.fit_transform(X)"
      ],
      "execution_count": 8,
      "outputs": []
    },
    {
      "cell_type": "code",
      "metadata": {
        "id": "YmBpeEOe5eN0"
      },
      "source": [
        "X_tf=X_tf.toarray()"
      ],
      "execution_count": 9,
      "outputs": []
    },
    {
      "cell_type": "code",
      "metadata": {
        "id": "M6wiU27e5eQC"
      },
      "source": [
        "X_train,X_test,y_train,y_test=train_test_split(X_tf,y,test_size=0.2,random_state=1)"
      ],
      "execution_count": 10,
      "outputs": []
    },
    {
      "cell_type": "code",
      "metadata": {
        "id": "wVfE9oFW6gtV"
      },
      "source": [
        ""
      ],
      "execution_count": 16,
      "outputs": []
    },
    {
      "cell_type": "code",
      "metadata": {
        "colab": {
          "base_uri": "https://localhost:8080/"
        },
        "id": "ziGN5vQ46gwV",
        "outputId": "4242ebad-4cb8-4f35-c552-a06e0aba3010"
      },
      "source": [
        "print(X_train.shape)\n",
        "print(X_test.shape)\n",
        "print(y_train.shape)\n",
        "print(y_test.shape)"
      ],
      "execution_count": 11,
      "outputs": [
        {
          "output_type": "stream",
          "text": [
            "(9093, 8954)\n",
            "(2274, 8954)\n",
            "(9093,)\n",
            "(2274,)\n"
          ],
          "name": "stdout"
        }
      ]
    },
    {
      "cell_type": "code",
      "metadata": {
        "id": "pyDgBDet6gyz"
      },
      "source": [
        "X_train = X_train[:, :, None]\n",
        "X_test = X_test[:, :, None]"
      ],
      "execution_count": 12,
      "outputs": []
    },
    {
      "cell_type": "markdown",
      "metadata": {
        "id": "VvQ13LbnarkR"
      },
      "source": [
        "## LSTM"
      ]
    },
    {
      "cell_type": "code",
      "metadata": {
        "colab": {
          "base_uri": "https://localhost:8080/"
        },
        "id": "PYEnA3PR6g1S",
        "outputId": "d429db0a-8aed-4d70-ba8a-b41c4eae8e91"
      },
      "source": [
        "model_lstm = Sequential()\n",
        "model_lstm.add(LSTM(64,input_shape=X_train.shape[1:],return_sequences=True))\n",
        "model_lstm.add(Dropout(0.4))\n",
        "model_lstm.add(LSTM(64,input_shape=X_train.shape[1:]))\n",
        "model_lstm.add(Dropout(0.3))\n",
        "model_lstm.add(Dense(1,activation='sigmoid'))\n",
        "model_lstm.summary()"
      ],
      "execution_count": 17,
      "outputs": [
        {
          "output_type": "stream",
          "text": [
            "Model: \"sequential_2\"\n",
            "_________________________________________________________________\n",
            "Layer (type)                 Output Shape              Param #   \n",
            "=================================================================\n",
            "lstm (LSTM)                  (None, 8954, 64)          16896     \n",
            "_________________________________________________________________\n",
            "dropout_4 (Dropout)          (None, 8954, 64)          0         \n",
            "_________________________________________________________________\n",
            "lstm_1 (LSTM)                (None, 64)                33024     \n",
            "_________________________________________________________________\n",
            "dropout_5 (Dropout)          (None, 64)                0         \n",
            "_________________________________________________________________\n",
            "dense_2 (Dense)              (None, 1)                 65        \n",
            "=================================================================\n",
            "Total params: 49,985\n",
            "Trainable params: 49,985\n",
            "Non-trainable params: 0\n",
            "_________________________________________________________________\n"
          ],
          "name": "stdout"
        }
      ]
    },
    {
      "cell_type": "code",
      "metadata": {
        "colab": {
          "base_uri": "https://localhost:8080/"
        },
        "id": "Ce7IVOqa6g3w",
        "outputId": "4d3535ba-af73-49e3-8b91-81a462d6a9ad"
      },
      "source": [
        "model_lstm.compile(optimizer='adam',loss='binary_crossentropy',metrics=['acc'])\n",
        "history_lstm=model_lstm.fit(X_train, y_train, epochs=10, verbose=1,validation_data=(X_test,y_test))"
      ],
      "execution_count": 18,
      "outputs": [
        {
          "output_type": "stream",
          "text": [
            "Epoch 1/10\n",
            "285/285 [==============================] - 146s 498ms/step - loss: 0.5120 - acc: 0.8106 - val_loss: 0.5003 - val_acc: 0.8008\n",
            "Epoch 2/10\n",
            "285/285 [==============================] - 149s 522ms/step - loss: 0.4717 - acc: 0.8206 - val_loss: 0.5040 - val_acc: 0.8008\n",
            "Epoch 3/10\n",
            "285/285 [==============================] - 149s 522ms/step - loss: 0.4840 - acc: 0.8153 - val_loss: 0.4998 - val_acc: 0.8008\n",
            "Epoch 4/10\n",
            "285/285 [==============================] - 141s 496ms/step - loss: 0.4734 - acc: 0.8208 - val_loss: 0.5007 - val_acc: 0.8008\n",
            "Epoch 5/10\n",
            "285/285 [==============================] - 141s 496ms/step - loss: 0.4827 - acc: 0.8143 - val_loss: 0.4997 - val_acc: 0.8008\n",
            "Epoch 6/10\n",
            "285/285 [==============================] - 141s 497ms/step - loss: 0.4825 - acc: 0.8154 - val_loss: 0.5024 - val_acc: 0.8008\n",
            "Epoch 7/10\n",
            "285/285 [==============================] - 141s 496ms/step - loss: 0.4733 - acc: 0.8210 - val_loss: 0.4996 - val_acc: 0.8008\n",
            "Epoch 8/10\n",
            "285/285 [==============================] - 141s 495ms/step - loss: 0.4736 - acc: 0.8200 - val_loss: 0.4995 - val_acc: 0.8008\n",
            "Epoch 9/10\n",
            "285/285 [==============================] - 141s 496ms/step - loss: 0.4795 - acc: 0.8162 - val_loss: 0.4994 - val_acc: 0.8008\n",
            "Epoch 10/10\n",
            "285/285 [==============================] - 141s 494ms/step - loss: 0.4779 - acc: 0.8161 - val_loss: 0.4993 - val_acc: 0.8008\n"
          ],
          "name": "stdout"
        }
      ]
    },
    {
      "cell_type": "markdown",
      "metadata": {
        "id": "meap2Z6n8XN3"
      },
      "source": [
        "## GRU"
      ]
    },
    {
      "cell_type": "code",
      "metadata": {
        "colab": {
          "base_uri": "https://localhost:8080/"
        },
        "id": "YReo6ZY_6g6G",
        "outputId": "6a390dcd-5b89-491e-94ed-653aee42a04b"
      },
      "source": [
        "model_GRU = Sequential()\n",
        "model_GRU.add(GRU(64,input_shape=X_train.shape[1:],return_sequences=True))\n",
        "model_GRU.add(Dropout(0.4))\n",
        "model_GRU.add(GRU(64,input_shape=X_train.shape[1:]))\n",
        "model_GRU.add(Dropout(0.3))\n",
        "model_GRU.add(Dense(1,activation='sigmoid'))\n",
        "model_GRU.summary()"
      ],
      "execution_count": 15,
      "outputs": [
        {
          "output_type": "stream",
          "text": [
            "Model: \"sequential_1\"\n",
            "_________________________________________________________________\n",
            "Layer (type)                 Output Shape              Param #   \n",
            "=================================================================\n",
            "gru (GRU)                    (None, 8954, 64)          12864     \n",
            "_________________________________________________________________\n",
            "dropout_2 (Dropout)          (None, 8954, 64)          0         \n",
            "_________________________________________________________________\n",
            "gru_1 (GRU)                  (None, 64)                24960     \n",
            "_________________________________________________________________\n",
            "dropout_3 (Dropout)          (None, 64)                0         \n",
            "_________________________________________________________________\n",
            "dense_1 (Dense)              (None, 1)                 65        \n",
            "=================================================================\n",
            "Total params: 37,889\n",
            "Trainable params: 37,889\n",
            "Non-trainable params: 0\n",
            "_________________________________________________________________\n"
          ],
          "name": "stdout"
        }
      ]
    },
    {
      "cell_type": "code",
      "metadata": {
        "colab": {
          "base_uri": "https://localhost:8080/"
        },
        "id": "Q3s3kOK76g8l",
        "outputId": "3e8add11-3aa8-4ca2-cf98-e2930b7b11c1"
      },
      "source": [
        "model_GRU.compile(optimizer='adam',loss='binary_crossentropy',metrics=['acc'])\n",
        "history_GRU=model_GRU.fit(X_train, y_train, epochs=10, verbose=1,validation_data=(X_test,y_test))"
      ],
      "execution_count": 16,
      "outputs": [
        {
          "output_type": "stream",
          "text": [
            "Epoch 1/10\n",
            "285/285 [==============================] - 141s 478ms/step - loss: 0.5094 - acc: 0.8161 - val_loss: 0.5001 - val_acc: 0.8008\n",
            "Epoch 2/10\n",
            "285/285 [==============================] - 135s 475ms/step - loss: 0.4715 - acc: 0.8220 - val_loss: 0.4997 - val_acc: 0.8008\n",
            "Epoch 3/10\n",
            "285/285 [==============================] - 135s 475ms/step - loss: 0.4848 - acc: 0.8135 - val_loss: 0.4993 - val_acc: 0.8008\n",
            "Epoch 4/10\n",
            "285/285 [==============================] - 135s 475ms/step - loss: 0.4852 - acc: 0.8130 - val_loss: 0.5040 - val_acc: 0.8008\n",
            "Epoch 5/10\n",
            "285/285 [==============================] - 136s 477ms/step - loss: 0.4758 - acc: 0.8196 - val_loss: 0.5003 - val_acc: 0.8008\n",
            "Epoch 6/10\n",
            "285/285 [==============================] - 135s 475ms/step - loss: 0.4839 - acc: 0.8133 - val_loss: 0.5000 - val_acc: 0.8008\n",
            "Epoch 7/10\n",
            "285/285 [==============================] - 136s 478ms/step - loss: 0.4856 - acc: 0.8131 - val_loss: 0.5040 - val_acc: 0.8008\n",
            "Epoch 8/10\n",
            "285/285 [==============================] - 136s 479ms/step - loss: 0.4812 - acc: 0.8149 - val_loss: 0.5009 - val_acc: 0.8008\n",
            "Epoch 9/10\n",
            "285/285 [==============================] - 136s 477ms/step - loss: 0.4683 - acc: 0.8248 - val_loss: 0.4993 - val_acc: 0.8008\n",
            "Epoch 10/10\n",
            "285/285 [==============================] - 144s 505ms/step - loss: 0.4825 - acc: 0.8140 - val_loss: 0.5020 - val_acc: 0.8008\n"
          ],
          "name": "stdout"
        }
      ]
    },
    {
      "cell_type": "markdown",
      "metadata": {
        "id": "yqBgM30uVeyz"
      },
      "source": [
        "## Accuracies and losses"
      ]
    },
    {
      "cell_type": "code",
      "metadata": {
        "id": "CboU-iyW8kd_"
      },
      "source": [
        "LSTM_history = pd.DataFrame(history_lstm.history) \n",
        "GRU_history= pd.DataFrame(history_GRU.history)\n",
        "\n",
        "LSTM_history.to_csv('LSTM.csv')\n",
        "GRU_history.to_csv('GRU.csv')"
      ],
      "execution_count": 24,
      "outputs": []
    },
    {
      "cell_type": "code",
      "metadata": {
        "colab": {
          "base_uri": "https://localhost:8080/",
          "height": 204
        },
        "id": "jg2NLOukeR5r",
        "outputId": "2d2eda1b-e4e6-4976-8d3f-49edcc5f6733"
      },
      "source": [
        "LSTM_history.head()"
      ],
      "execution_count": 25,
      "outputs": [
        {
          "output_type": "execute_result",
          "data": {
            "text/html": [
              "<div>\n",
              "<style scoped>\n",
              "    .dataframe tbody tr th:only-of-type {\n",
              "        vertical-align: middle;\n",
              "    }\n",
              "\n",
              "    .dataframe tbody tr th {\n",
              "        vertical-align: top;\n",
              "    }\n",
              "\n",
              "    .dataframe thead th {\n",
              "        text-align: right;\n",
              "    }\n",
              "</style>\n",
              "<table border=\"1\" class=\"dataframe\">\n",
              "  <thead>\n",
              "    <tr style=\"text-align: right;\">\n",
              "      <th></th>\n",
              "      <th>loss</th>\n",
              "      <th>acc</th>\n",
              "      <th>val_loss</th>\n",
              "      <th>val_acc</th>\n",
              "    </tr>\n",
              "  </thead>\n",
              "  <tbody>\n",
              "    <tr>\n",
              "      <th>0</th>\n",
              "      <td>0.485871</td>\n",
              "      <td>0.817222</td>\n",
              "      <td>0.500300</td>\n",
              "      <td>0.800792</td>\n",
              "    </tr>\n",
              "    <tr>\n",
              "      <th>1</th>\n",
              "      <td>0.476408</td>\n",
              "      <td>0.817332</td>\n",
              "      <td>0.503994</td>\n",
              "      <td>0.800792</td>\n",
              "    </tr>\n",
              "    <tr>\n",
              "      <th>2</th>\n",
              "      <td>0.479183</td>\n",
              "      <td>0.817332</td>\n",
              "      <td>0.499780</td>\n",
              "      <td>0.800792</td>\n",
              "    </tr>\n",
              "    <tr>\n",
              "      <th>3</th>\n",
              "      <td>0.479017</td>\n",
              "      <td>0.817332</td>\n",
              "      <td>0.500740</td>\n",
              "      <td>0.800792</td>\n",
              "    </tr>\n",
              "    <tr>\n",
              "      <th>4</th>\n",
              "      <td>0.478387</td>\n",
              "      <td>0.817332</td>\n",
              "      <td>0.499723</td>\n",
              "      <td>0.800792</td>\n",
              "    </tr>\n",
              "  </tbody>\n",
              "</table>\n",
              "</div>"
            ],
            "text/plain": [
              "       loss       acc  val_loss   val_acc\n",
              "0  0.485871  0.817222  0.500300  0.800792\n",
              "1  0.476408  0.817332  0.503994  0.800792\n",
              "2  0.479183  0.817332  0.499780  0.800792\n",
              "3  0.479017  0.817332  0.500740  0.800792\n",
              "4  0.478387  0.817332  0.499723  0.800792"
            ]
          },
          "metadata": {
            "tags": []
          },
          "execution_count": 25
        }
      ]
    },
    {
      "cell_type": "code",
      "metadata": {
        "colab": {
          "base_uri": "https://localhost:8080/",
          "height": 295
        },
        "id": "PTeZukB98kaj",
        "outputId": "cbf97fc7-5f08-474f-e7b4-83478ef42339"
      },
      "source": [
        "#Training Accuracy\n",
        "plt.plot(LSTM_history['acc'])\n",
        "plt.plot(GRU_history['acc'])\n",
        "plt.title(' Training Accuracy')\n",
        "plt.ylabel('Accuracy')\n",
        "plt.xlabel('Epoch')\n",
        "plt.legend(['LSTM', 'GRU'], loc='best')\n",
        "plt.show()"
      ],
      "execution_count": 26,
      "outputs": [
        {
          "output_type": "display_data",
          "data": {
            "image/png": "[encoded data removed]",
            "text/plain": [
              "<Figure size 432x288 with 1 Axes>"
            ]
          },
          "metadata": {
            "tags": [],
            "needs_background": "light"
          }
        }
      ]
    },
    {
      "cell_type": "code",
      "metadata": {
        "colab": {
          "base_uri": "https://localhost:8080/",
          "height": 295
        },
        "id": "cgwX805_8kXz",
        "outputId": "3c3495df-b424-4b5e-a5a2-9c48d63f1d35"
      },
      "source": [
        "#Validation Accuracy\n",
        "plt.plot(LSTM_history['val_acc'])\n",
        "plt.plot(GRU_history['val_acc'])\n",
        "plt.title(' Validation Accuracy')\n",
        "plt.ylabel('Accuracy')\n",
        "plt.xlabel('Epoch')\n",
        "plt.legend(['LSTM', 'GRU'], loc='best')\n",
        "plt.show()"
      ],
      "execution_count": 27,
      "outputs": [
        {
          "output_type": "display_data",
          "data": {
            "image/png": "[encoded data removed]",
            "text/plain": [
              "<Figure size 432x288 with 1 Axes>"
            ]
          },
          "metadata": {
            "tags": [],
            "needs_background": "light"
          }
        }
      ]
    },
    {
      "cell_type": "code",
      "metadata": {
        "colab": {
          "base_uri": "https://localhost:8080/",
          "height": 295
        },
        "id": "u86qPWIM8kVA",
        "outputId": "50ad200a-3e58-4f0c-ccbe-ad40515f8b19"
      },
      "source": [
        "#Training loss\n",
        "plt.plot(LSTM_history['loss'])\n",
        "plt.plot(GRU_history['loss'])\n",
        "plt.title(' Training loss')\n",
        "plt.ylabel('loss')\n",
        "plt.xlabel('Epoch')\n",
        "plt.legend(['LSTM', 'GRU'], loc='best')\n",
        "plt.show()"
      ],
      "execution_count": 28,
      "outputs": [
        {
          "output_type": "display_data",
          "data": {
            "image/png": "[encoded data removed]",
            "text/plain": [
              "<Figure size 432x288 with 1 Axes>"
            ]
          },
          "metadata": {
            "tags": [],
            "needs_background": "light"
          }
        }
      ]
    },
    {
      "cell_type": "code",
      "metadata": {
        "colab": {
          "base_uri": "https://localhost:8080/",
          "height": 295
        },
        "id": "ytHbm5IWWf6w",
        "outputId": "d785ad84-0729-40d3-a942-73b73ca6eccc"
      },
      "source": [
        "#Validation Loss\n",
        "plt.plot(LSTM_history['val_loss'])\n",
        "plt.plot(GRU_history['val_loss'])\n",
        "plt.title(' Validation Loss')\n",
        "plt.ylabel('loss')\n",
        "plt.xlabel('Epoch')\n",
        "plt.legend(['LSTM', 'GRU'], loc='best')\n",
        "plt.show()"
      ],
      "execution_count": 29,
      "outputs": [
        {
          "output_type": "display_data",
          "data": {
            "image/png": "[encoded data removed]",
            "text/plain": [
              "<Figure size 432x288 with 1 Axes>"
            ]
          },
          "metadata": {
            "tags": [],
            "needs_background": "light"
          }
        }
      ]
    },
    {
      "cell_type": "code",
      "metadata": {
        "id": "eJE2sHvMWf9V"
      },
      "source": [
        ""
      ],
      "execution_count": 18,
      "outputs": []
    },
    {
      "cell_type": "code",
      "metadata": {
        "id": "dTKf1_bnWf_v"
      },
      "source": [
        ""
      ],
      "execution_count": null,
      "outputs": []
    }
  ]
}